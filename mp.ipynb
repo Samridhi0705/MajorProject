{
  "nbformat": 4,
  "nbformat_minor": 0,
  "metadata": {
    "colab": {
      "provenance": [],
      "authorship_tag": "ABX9TyMuZUFPVNkriFEiOcXjhuuQ",
      "include_colab_link": true
    },
    "kernelspec": {
      "name": "python3",
      "display_name": "Python 3"
    },
    "language_info": {
      "name": "python"
    }
  },
  "cells": [
    {
      "cell_type": "markdown",
      "metadata": {
        "id": "view-in-github",
        "colab_type": "text"
      },
      "source": [
        "<a href=\"https://colab.research.google.com/github/Samridhi0705/MajorProject/blob/main/mp.ipynb\" target=\"_parent\"><img src=\"https://colab.research.google.com/assets/colab-badge.svg\" alt=\"Open In Colab\"/></a>"
      ]
    },
    {
      "cell_type": "code",
      "execution_count": 1,
      "metadata": {
        "id": "rQjuLv6gapbW",
        "colab": {
          "base_uri": "https://localhost:8080/"
        },
        "outputId": "7f54a4b7-38f7-48ff-924c-a336144d528f"
      },
      "outputs": [
        {
          "output_type": "stream",
          "name": "stdout",
          "text": [
            "Requirement already satisfied: telethon in /usr/local/lib/python3.11/dist-packages (1.40.0)\n",
            "Requirement already satisfied: nest_asyncio in /usr/local/lib/python3.11/dist-packages (1.6.0)\n",
            "Requirement already satisfied: pyaes in /usr/local/lib/python3.11/dist-packages (from telethon) (1.6.1)\n",
            "Requirement already satisfied: rsa in /usr/local/lib/python3.11/dist-packages (from telethon) (4.9.1)\n",
            "Requirement already satisfied: pyasn1>=0.1.3 in /usr/local/lib/python3.11/dist-packages (from rsa->telethon) (0.6.1)\n"
          ]
        }
      ],
      "source": [
        "!pip install telethon nest_asyncio\n",
        "\n",
        "import nest_asyncio\n",
        "nest_asyncio.apply()\n"
      ]
    },
    {
      "cell_type": "code",
      "source": [
        "import os\n",
        "import csv\n",
        "from telethon import TelegramClient, events\n",
        "from datetime import datetime\n",
        "\n",
        "# Remove old session to force fresh login each time\n",
        "if os.path.exists('bot_session.session'):\n",
        "    os.remove('bot_session.session')\n",
        "\n",
        "api_id = '28932578'\n",
        "api_hash = 'e73796fdffd4d3fa973e1aedbe803311'\n",
        "bot_token = '8315747892:AAHpfpYvvuC9lXBpycHHOBarC8_DTvOV0fs'  # Your bot token\n",
        "\n",
        "client = TelegramClient('bot_session', api_id, api_hash)\n",
        "\n",
        "# CSV file name\n",
        "csv_file = 'flagged_messages.csv'\n",
        "\n",
        "# Initialize CSV file with headers (only once)\n",
        "if not os.path.exists(csv_file):\n",
        "    with open(csv_file, 'w', newline='', encoding='utf-8') as f:\n",
        "        writer = csv.writer(f)\n",
        "        writer.writerow(['timestamp', 'sender_id', 'message'])\n",
        "\n",
        "async def main():\n",
        "    await client.start(bot_token=bot_token)\n",
        "\n",
        "    @client.on(events.NewMessage)\n",
        "    async def handler(event):\n",
        "        msg = event.message.message\n",
        "        sender = await event.get_sender()\n",
        "        sender_id = sender.id if sender else 'Unknown'\n",
        "        timestamp = event.message.date.strftime(\"%Y-%m-%d %H:%M:%S\")\n",
        "\n",
        "        print(f\"New message from {sender_id} at {timestamp}: {msg}\")\n",
        "\n",
        "        # Append message data to CSV\n",
        "        with open(csv_file, 'a', newline='', encoding='utf-8') as f:\n",
        "            writer = csv.writer(f)\n",
        "            writer.writerow([timestamp, sender_id, msg])\n",
        "\n",
        "    print(\"Bot is running and saving messages to\", csv_file)\n",
        "    await client.run_until_disconnected()\n",
        "\n",
        "await main()\n"
      ],
      "metadata": {
        "id": "yjXpl78d0r2i",
        "colab": {
          "base_uri": "https://localhost:8080/"
        },
        "outputId": "2791d4fe-e092-4086-9490-f3ba1bc47469"
      },
      "execution_count": null,
      "outputs": [
        {
          "output_type": "stream",
          "name": "stdout",
          "text": [
            "Bot is running and saving messages to flagged_messages.csv\n",
            "New message from 8432945463 at 2025-07-28 16:55:39: hellooozzz\n"
          ]
        }
      ]
    }
  ]
}