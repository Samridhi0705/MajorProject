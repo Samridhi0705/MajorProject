{
  "nbformat": 4,
  "nbformat_minor": 0,
  "metadata": {
    "colab": {
      "provenance": [],
      "authorship_tag": "ABX9TyOkqzlFDPK9esPFhQMZQG9X",
      "include_colab_link": true
    },
    "kernelspec": {
      "name": "python3",
      "display_name": "Python 3"
    },
    "language_info": {
      "name": "python"
    }
  },
  "cells": [
    {
      "cell_type": "markdown",
      "metadata": {
        "id": "view-in-github",
        "colab_type": "text"
      },
      "source": [
        "<a href=\"https://colab.research.google.com/github/Samridhi0705/MajorProject/blob/main/mp.ipynb\" target=\"_parent\"><img src=\"https://colab.research.google.com/assets/colab-badge.svg\" alt=\"Open In Colab\"/></a>"
      ]
    },
    {
      "cell_type": "code",
      "execution_count": 2,
      "metadata": {
        "id": "rQjuLv6gapbW",
        "colab": {
          "base_uri": "https://localhost:8080/"
        },
        "outputId": "7fe7a700-e5d8-4bbc-fdcd-313d2bf91c3d"
      },
      "outputs": [
        {
          "output_type": "stream",
          "name": "stdout",
          "text": [
            "Collecting telethon\n",
            "  Downloading Telethon-1.40.0-py3-none-any.whl.metadata (3.9 kB)\n",
            "Requirement already satisfied: nest_asyncio in /usr/local/lib/python3.11/dist-packages (1.6.0)\n",
            "Collecting pyaes (from telethon)\n",
            "  Downloading pyaes-1.6.1.tar.gz (28 kB)\n",
            "  Preparing metadata (setup.py) ... \u001b[?25l\u001b[?25hdone\n",
            "Requirement already satisfied: rsa in /usr/local/lib/python3.11/dist-packages (from telethon) (4.9.1)\n",
            "Requirement already satisfied: pyasn1>=0.1.3 in /usr/local/lib/python3.11/dist-packages (from rsa->telethon) (0.6.1)\n",
            "Downloading Telethon-1.40.0-py3-none-any.whl (722 kB)\n",
            "\u001b[2K   \u001b[90m━━━━━━━━━━━━━━━━━━━━━━━━━━━━━━━━━━━━━━━━\u001b[0m \u001b[32m722.0/722.0 kB\u001b[0m \u001b[31m14.4 MB/s\u001b[0m eta \u001b[36m0:00:00\u001b[0m\n",
            "\u001b[?25hBuilding wheels for collected packages: pyaes\n",
            "  Building wheel for pyaes (setup.py) ... \u001b[?25l\u001b[?25hdone\n",
            "  Created wheel for pyaes: filename=pyaes-1.6.1-py3-none-any.whl size=26347 sha256=40c8e4877c50bdfae5c5cd3c9b68aa1c6fd415a1592490a53c535d798e117aca\n",
            "  Stored in directory: /root/.cache/pip/wheels/4e/52/33/010d0843550bffb6a591b11629070ae140c0ad4f53e68a3bd3\n",
            "Successfully built pyaes\n",
            "Installing collected packages: pyaes, telethon\n",
            "Successfully installed pyaes-1.6.1 telethon-1.40.0\n"
          ]
        }
      ],
      "source": [
        "!pip install telethon nest_asyncio\n",
        "\n",
        "import nest_asyncio\n",
        "nest_asyncio.apply()\n"
      ]
    },
    {
      "cell_type": "code",
      "source": [
        "import os\n",
        "from telethon import TelegramClient, events\n",
        "\n",
        "# Remove old session to force fresh login each time\n",
        "if os.path.exists('bot_session.session'):\n",
        "    os.remove('bot_session.session')\n",
        "\n",
        "api_id = '28932578'\n",
        "api_hash = 'e73796fdffd4d3fa973e1aedbe803311'\n",
        "bot_token = '8315747892:AAHpfpYvvuC9lXBpycHHOBarC8_DTvOV0fs'  # Your bot token\n",
        "\n",
        "client = TelegramClient('bot_session', api_id, api_hash)\n",
        "\n",
        "async def main():\n",
        "    await client.start(bot_token=bot_token)\n",
        "\n",
        "    @client.on(events.NewMessage)\n",
        "    async def handler(event):\n",
        "        print(f\"New message: {event.message.message}\")\n",
        "\n",
        "    print(\"Bot is running...\")\n",
        "    await client.run_until_disconnected()\n"
      ],
      "metadata": {
        "id": "yjXpl78d0r2i"
      },
      "execution_count": 3,
      "outputs": []
    },
    {
      "cell_type": "code",
      "source": [
        "await main()\n"
      ],
      "metadata": {
        "id": "uGmGYhKL0sDQ",
        "outputId": "b8352e05-577e-4ca1-ac08-7da5a76f2580",
        "colab": {
          "base_uri": "https://localhost:8080/"
        }
      },
      "execution_count": null,
      "outputs": [
        {
          "output_type": "stream",
          "name": "stdout",
          "text": [
            "Bot is running...\n"
          ]
        }
      ]
    },
    {
      "cell_type": "code",
      "source": [
        "import pandas as pd\n",
        "import re\n",
        "\n",
        "with open('messages.txt', 'r', encoding='utf-8') as f:\n",
        "    messages = f.readlines()\n",
        "\n",
        "def clean_text(text):\n",
        "    text = re.sub(r\"http\\S+\", \"\", text)\n",
        "    text = re.sub(r\"[^a-zA-Z0-9\\s]\", \"\", text)\n",
        "    return text.lower().strip()\n",
        "\n",
        "cleaned = [clean_text(msg) for msg in messages]\n",
        "df = pd.DataFrame({'message': cleaned})\n",
        "df.to_csv('cleaned_messages.csv', index=False)\n",
        "df.head()"
      ],
      "metadata": {
        "id": "ixKRi_kh2245"
      },
      "execution_count": null,
      "outputs": []
    }
  ]
}