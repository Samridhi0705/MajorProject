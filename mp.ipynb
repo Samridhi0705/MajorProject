{
  "nbformat": 4,
  "nbformat_minor": 0,
  "metadata": {
    "colab": {
      "provenance": [],
      "authorship_tag": "ABX9TyMTyzD51IEzs8bTMwbI8s/U",
      "include_colab_link": true
    },
    "kernelspec": {
      "name": "python3",
      "display_name": "Python 3"
    },
    "language_info": {
      "name": "python"
    }
  },
  "cells": [
    {
      "cell_type": "markdown",
      "metadata": {
        "id": "view-in-github",
        "colab_type": "text"
      },
      "source": [
        "<a href=\"https://colab.research.google.com/github/Samridhi0705/MajorProject/blob/main/mp.ipynb\" target=\"_parent\"><img src=\"https://colab.research.google.com/assets/colab-badge.svg\" alt=\"Open In Colab\"/></a>"
      ]
    },
    {
      "cell_type": "code",
      "execution_count": null,
      "metadata": {
        "id": "rQjuLv6gapbW"
      },
      "outputs": [],
      "source": [
        "!pip install nest_asyncio\n",
        "import nest_asyncio\n",
        "nest_asyncio.apply()\n",
        "import asyncio\n",
        "asyncio.get_event_loop().run_until_complete(main())\n",
        "!pip install telethon nest_asyncio\n",
        "\n",
        "\n",
        "from telethon import TelegramClient, events\n",
        "\n",
        "import os\n",
        "if os.path.exists('bot_session.session'):\n",
        "    os.remove('bot_session.session')\n",
        "\n",
        "api_id = '28932578'\n",
        "api_hash = 'e73796fdffd4d3fa973e1aedbe803311'\n",
        "bot_token = '8315747892:AAHpfpYvvuC9lXBpycHHOBarC8_DTvOV0fs'\n",
        "\n",
        "client = TelegramClient('bot_session', api_id, api_hash)\n",
        "\n",
        "async def main():\n",
        "    await client.start(bot_token=bot_token)\n",
        "\n",
        "    @client.on(events.NewMessage)\n",
        "    async def handler(event):\n",
        "        print(f\"New message: {event.message.message}\")\n",
        "\n",
        "    print(\"Bot is running...\")\n",
        "    await client.run_until_disconnected()\n",
        "\n",
        "import asyncio\n",
        "await main()  # This works in Colab/Jupyter\n"
      ]
    }
  ]
}