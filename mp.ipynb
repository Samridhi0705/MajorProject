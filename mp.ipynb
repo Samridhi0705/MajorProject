{
  "nbformat": 4,
  "nbformat_minor": 0,
  "metadata": {
    "colab": {
      "provenance": [],
      "authorship_tag": "ABX9TyMYfyaYEVoWCZRVx12Dolk8",
      "include_colab_link": true
    },
    "kernelspec": {
      "name": "python3",
      "display_name": "Python 3"
    },
    "language_info": {
      "name": "python"
    }
  },
  "cells": [
    {
      "cell_type": "markdown",
      "metadata": {
        "id": "view-in-github",
        "colab_type": "text"
      },
      "source": [
        "<a href=\"https://colab.research.google.com/github/Samridhi0705/MajorProject/blob/main/mp.ipynb\" target=\"_parent\"><img src=\"https://colab.research.google.com/assets/colab-badge.svg\" alt=\"Open In Colab\"/></a>"
      ]
    },
    {
      "cell_type": "code",
      "execution_count": 91,
      "metadata": {
        "id": "rQjuLv6gapbW",
        "colab": {
          "base_uri": "https://localhost:8080/"
        },
        "outputId": "eae6724e-0845-4826-fac5-7a493daed106"
      },
      "outputs": [
        {
          "output_type": "stream",
          "name": "stdout",
          "text": [
            "Requirement already satisfied: telethon in /usr/local/lib/python3.11/dist-packages (1.40.0)\n",
            "Requirement already satisfied: nest_asyncio in /usr/local/lib/python3.11/dist-packages (1.6.0)\n",
            "Requirement already satisfied: pyaes in /usr/local/lib/python3.11/dist-packages (from telethon) (1.6.1)\n",
            "Requirement already satisfied: rsa in /usr/local/lib/python3.11/dist-packages (from telethon) (4.9.1)\n",
            "Requirement already satisfied: pyasn1>=0.1.3 in /usr/local/lib/python3.11/dist-packages (from rsa->telethon) (0.6.1)\n"
          ]
        }
      ],
      "source": [
        "!pip install telethon nest_asyncio\n",
        "\n",
        "import nest_asyncio\n",
        "nest_asyncio.apply()\n"
      ]
    },
    {
      "cell_type": "code",
      "source": [
        "import os\n",
        "import csv\n",
        "from telethon import TelegramClient, events\n",
        "from datetime import datetime\n",
        "\n",
        "# Remove old session to force fresh login each time\n",
        "if os.path.exists('bot_session.session'):\n",
        "    os.remove('bot_session.session')\n",
        "\n",
        "api_id = '28932578'\n",
        "api_hash = 'e73796fdffd4d3fa973e1aedbe803311'\n",
        "bot_token = '8315747892:AAHpfpYvvuC9lXBpycHHOBarC8_DTvOV0fs'  # Your bot token\n",
        "\n",
        "client = TelegramClient('bot_session', api_id, api_hash)\n",
        "\n",
        "# CSV file name\n",
        "csv_file = 'flagged_messages.csv'\n",
        "\n",
        "# Initialize CSV file with headers (only once)\n",
        "if not os.path.exists(csv_file):\n",
        "    with open(csv_file, 'w', newline='', encoding='utf-8') as f:\n",
        "        writer = csv.writer(f)\n",
        "        writer.writerow(['timestamp', 'sender_id', 'message'])\n",
        "\n",
        "async def main():\n",
        "    await client.start(bot_token=bot_token)\n",
        "\n",
        "    @client.on(events.NewMessage)\n",
        "    async def handler(event):\n",
        "        msg = event.message.message\n",
        "        sender = await event.get_sender()\n",
        "        sender_id = sender.id if sender else 'Unknown'\n",
        "        timestamp = event.message.date.strftime(\"%Y-%m-%d %H:%M:%S\")\n",
        "\n",
        "        print(f\"New message from {sender_id} at {timestamp}: {msg}\")\n",
        "\n",
        "        # Append message data to CSV\n",
        "        with open(csv_file, 'a', newline='', encoding='utf-8') as f:\n",
        "            writer = csv.writer(f)\n",
        "            writer.writerow([timestamp, sender_id, msg])\n",
        "\n",
        "    print(\"Bot is running and saving messages to\", csv_file)\n",
        "    await client.run_until_disconnected()\n",
        "\n",
        "await main()\n"
      ],
      "metadata": {
        "id": "yjXpl78d0r2i"
      },
      "execution_count": null,
      "outputs": []
    },
    {
      "cell_type": "code",
      "source": [
        "import pandas as pd\n",
        "import re\n",
        "\n",
        "# Load your saved messages\n",
        "df = pd.read_csv('cleaned_messages.csv')\n",
        "\n",
        "# Basic cleaning function\n",
        "def clean_text(text):\n",
        "    text = str(text)\n",
        "    text = re.sub(r'http\\S+', '', text)       # Remove URLs\n",
        "    text = re.sub(r'@\\S+', '', text)          # Remove mentions\n",
        "    text = re.sub(r'[^a-zA-Z0-9\\s]', '', text) # Remove special chars\n",
        "    text = text.lower().strip()               # Lowercase and trim\n",
        "    return text\n",
        "\n",
        "df['clean_message'] = df['message'].apply(clean_text)\n",
        "df.to_csv('cleaned_messages.csv', index=False)\n",
        "df.head()\n"
      ],
      "metadata": {
        "id": "NT4o-rvb-i4E",
        "outputId": "60f2c2fd-4a2d-4a89-eded-1ff7e04fc402",
        "colab": {
          "base_uri": "https://localhost:8080/",
          "height": 112
        }
      },
      "execution_count": 92,
      "outputs": [
        {
          "output_type": "execute_result",
          "data": {
            "text/plain": [
              "             timestamp   sender_id  \\\n",
              "0  2025-07-28 17:04:10  8432945463   \n",
              "1  2025-07-28 17:13:01  8432945463   \n",
              "\n",
              "                                          message  \\\n",
              "0  weed is on the way ?? do you want cocaine too.   \n",
              "1  weed is on the way ?? do you want cocaine too.   \n",
              "\n",
              "                                 clean_message  suspicious  \n",
              "0  weed is on the way  do you want cocaine too           1  \n",
              "1  weed is on the way  do you want cocaine too           1  "
            ],
            "text/html": [
              "\n",
              "  <div id=\"df-6c0ae20b-9990-4aeb-bcd7-ab46d9adf03c\" class=\"colab-df-container\">\n",
              "    <div>\n",
              "<style scoped>\n",
              "    .dataframe tbody tr th:only-of-type {\n",
              "        vertical-align: middle;\n",
              "    }\n",
              "\n",
              "    .dataframe tbody tr th {\n",
              "        vertical-align: top;\n",
              "    }\n",
              "\n",
              "    .dataframe thead th {\n",
              "        text-align: right;\n",
              "    }\n",
              "</style>\n",
              "<table border=\"1\" class=\"dataframe\">\n",
              "  <thead>\n",
              "    <tr style=\"text-align: right;\">\n",
              "      <th></th>\n",
              "      <th>timestamp</th>\n",
              "      <th>sender_id</th>\n",
              "      <th>message</th>\n",
              "      <th>clean_message</th>\n",
              "      <th>suspicious</th>\n",
              "    </tr>\n",
              "  </thead>\n",
              "  <tbody>\n",
              "    <tr>\n",
              "      <th>0</th>\n",
              "      <td>2025-07-28 17:04:10</td>\n",
              "      <td>8432945463</td>\n",
              "      <td>weed is on the way ?? do you want cocaine too.</td>\n",
              "      <td>weed is on the way  do you want cocaine too</td>\n",
              "      <td>1</td>\n",
              "    </tr>\n",
              "    <tr>\n",
              "      <th>1</th>\n",
              "      <td>2025-07-28 17:13:01</td>\n",
              "      <td>8432945463</td>\n",
              "      <td>weed is on the way ?? do you want cocaine too.</td>\n",
              "      <td>weed is on the way  do you want cocaine too</td>\n",
              "      <td>1</td>\n",
              "    </tr>\n",
              "  </tbody>\n",
              "</table>\n",
              "</div>\n",
              "    <div class=\"colab-df-buttons\">\n",
              "      \n",
              "  <div class=\"colab-df-container\">\n",
              "    <button class=\"colab-df-convert\" onclick=\"convertToInteractive('df-6c0ae20b-9990-4aeb-bcd7-ab46d9adf03c')\"\n",
              "            title=\"Convert this dataframe to an interactive table.\"\n",
              "            style=\"display:none;\">\n",
              "      \n",
              "  <svg xmlns=\"http://www.w3.org/2000/svg\" height=\"24px\" viewBox=\"0 -960 960 960\">\n",
              "    <path d=\"M120-120v-720h720v720H120Zm60-500h600v-160H180v160Zm220 220h160v-160H400v160Zm0 220h160v-160H400v160ZM180-400h160v-160H180v160Zm440 0h160v-160H620v160ZM180-180h160v-160H180v160Zm440 0h160v-160H620v160Z\"/>\n",
              "  </svg>\n",
              "    </button>\n",
              "    \n",
              "  <style>\n",
              "    .colab-df-container {\n",
              "      display:flex;\n",
              "      gap: 12px;\n",
              "    }\n",
              "\n",
              "    .colab-df-convert {\n",
              "      background-color: #E8F0FE;\n",
              "      border: none;\n",
              "      border-radius: 50%;\n",
              "      cursor: pointer;\n",
              "      display: none;\n",
              "      fill: #1967D2;\n",
              "      height: 32px;\n",
              "      padding: 0 0 0 0;\n",
              "      width: 32px;\n",
              "    }\n",
              "\n",
              "    .colab-df-convert:hover {\n",
              "      background-color: #E2EBFA;\n",
              "      box-shadow: 0px 1px 2px rgba(60, 64, 67, 0.3), 0px 1px 3px 1px rgba(60, 64, 67, 0.15);\n",
              "      fill: #174EA6;\n",
              "    }\n",
              "\n",
              "    .colab-df-buttons div {\n",
              "      margin-bottom: 4px;\n",
              "    }\n",
              "\n",
              "    [theme=dark] .colab-df-convert {\n",
              "      background-color: #3B4455;\n",
              "      fill: #D2E3FC;\n",
              "    }\n",
              "\n",
              "    [theme=dark] .colab-df-convert:hover {\n",
              "      background-color: #434B5C;\n",
              "      box-shadow: 0px 1px 3px 1px rgba(0, 0, 0, 0.15);\n",
              "      filter: drop-shadow(0px 1px 2px rgba(0, 0, 0, 0.3));\n",
              "      fill: #FFFFFF;\n",
              "    }\n",
              "  </style>\n",
              "\n",
              "    <script>\n",
              "      const buttonEl =\n",
              "        document.querySelector('#df-6c0ae20b-9990-4aeb-bcd7-ab46d9adf03c button.colab-df-convert');\n",
              "      buttonEl.style.display =\n",
              "        google.colab.kernel.accessAllowed ? 'block' : 'none';\n",
              "\n",
              "      async function convertToInteractive(key) {\n",
              "        const element = document.querySelector('#df-6c0ae20b-9990-4aeb-bcd7-ab46d9adf03c');\n",
              "        const dataTable =\n",
              "          await google.colab.kernel.invokeFunction('convertToInteractive',\n",
              "                                                    [key], {});\n",
              "        if (!dataTable) return;\n",
              "\n",
              "        const docLinkHtml = 'Like what you see? Visit the ' +\n",
              "          '<a target=\"_blank\" href=https://colab.research.google.com/notebooks/data_table.ipynb>data table notebook</a>'\n",
              "          + ' to learn more about interactive tables.';\n",
              "        element.innerHTML = '';\n",
              "        dataTable['output_type'] = 'display_data';\n",
              "        await google.colab.output.renderOutput(dataTable, element);\n",
              "        const docLink = document.createElement('div');\n",
              "        docLink.innerHTML = docLinkHtml;\n",
              "        element.appendChild(docLink);\n",
              "      }\n",
              "    </script>\n",
              "  </div>\n",
              "  \n",
              "    </div>\n",
              "  </div>\n",
              "  "
            ]
          },
          "metadata": {},
          "execution_count": 92
        }
      ]
    },
    {
      "cell_type": "code",
      "source": [
        "# Define your suspicious keywords list\n",
        "keywords = ['drug', 'cocaine', 'weed', 'lsd', 'ecstasy', 'heroin', 'meth']\n",
        "\n",
        "def is_suspicious(text):\n",
        "    text = str(text).lower()\n",
        "    return any(word in text for word in keywords)\n",
        "\n",
        "# Ensure you have a message column (often 'message' or 'clean_message')\n",
        "if 'clean_message' in df.columns:\n",
        "    text_col = 'clean_message'\n",
        "elif 'message' in df.columns:\n",
        "    text_col = 'message'\n",
        "else:\n",
        "    raise ValueError(\"No column with message text found!\")\n",
        "\n",
        "# Create the suspicious column\n",
        "df['suspicious'] = df[text_col].apply(is_suspicious)\n",
        "\n",
        "# Now you can proceed with your analysis using df['suspicious']\n",
        "print(df[['message', 'suspicious']].head())\n"
      ],
      "metadata": {
        "id": "p16MQQmL-rZq",
        "outputId": "e90d5154-9fc4-457d-f316-87cb9b482b4f",
        "colab": {
          "base_uri": "https://localhost:8080/"
        }
      },
      "execution_count": 93,
      "outputs": [
        {
          "output_type": "stream",
          "name": "stdout",
          "text": [
            "                                          message  suspicious\n",
            "0  weed is on the way ?? do you want cocaine too.        True\n",
            "1  weed is on the way ?? do you want cocaine too.        True\n"
          ]
        }
      ]
    },
    {
      "cell_type": "code",
      "source": [
        "from google.colab import files\n",
        "files.download('cleaned_messages.csv')\n"
      ],
      "metadata": {
        "id": "B0-2Bra1-wnL",
        "outputId": "ee781cdd-4c86-46e8-dc3d-c83815ddecc4",
        "colab": {
          "base_uri": "https://localhost:8080/",
          "height": 17
        }
      },
      "execution_count": 94,
      "outputs": [
        {
          "output_type": "display_data",
          "data": {
            "text/plain": [
              "<IPython.core.display.Javascript object>"
            ],
            "application/javascript": [
              "\n",
              "    async function download(id, filename, size) {\n",
              "      if (!google.colab.kernel.accessAllowed) {\n",
              "        return;\n",
              "      }\n",
              "      const div = document.createElement('div');\n",
              "      const label = document.createElement('label');\n",
              "      label.textContent = `Downloading \"${filename}\": `;\n",
              "      div.appendChild(label);\n",
              "      const progress = document.createElement('progress');\n",
              "      progress.max = size;\n",
              "      div.appendChild(progress);\n",
              "      document.body.appendChild(div);\n",
              "\n",
              "      const buffers = [];\n",
              "      let downloaded = 0;\n",
              "\n",
              "      const channel = await google.colab.kernel.comms.open(id);\n",
              "      // Send a message to notify the kernel that we're ready.\n",
              "      channel.send({})\n",
              "\n",
              "      for await (const message of channel.messages) {\n",
              "        // Send a message to notify the kernel that we're ready.\n",
              "        channel.send({})\n",
              "        if (message.buffers) {\n",
              "          for (const buffer of message.buffers) {\n",
              "            buffers.push(buffer);\n",
              "            downloaded += buffer.byteLength;\n",
              "            progress.value = downloaded;\n",
              "          }\n",
              "        }\n",
              "      }\n",
              "      const blob = new Blob(buffers, {type: 'application/binary'});\n",
              "      const a = document.createElement('a');\n",
              "      a.href = window.URL.createObjectURL(blob);\n",
              "      a.download = filename;\n",
              "      div.appendChild(a);\n",
              "      a.click();\n",
              "      div.remove();\n",
              "    }\n",
              "  "
            ]
          },
          "metadata": {}
        },
        {
          "output_type": "display_data",
          "data": {
            "text/plain": [
              "<IPython.core.display.Javascript object>"
            ],
            "application/javascript": [
              "download(\"download_ddd30427-ed69-43a5-bd06-d5a51b03dd03\", \"cleaned_messages.csv\", 301)"
            ]
          },
          "metadata": {}
        }
      ]
    },
    {
      "cell_type": "code",
      "source": [
        "import matplotlib.pyplot as plt\n",
        "\n",
        "# Ensure suspicious column is int\n",
        "df['suspicious'] = df['suspicious'].astype(int)\n",
        "\n",
        "# Get counts of both classes (0 and 1).\n",
        "# Use reindex to ensure both 0 and 1 appear, even if one count is missing (will fill 0 count)\n",
        "counts = df['suspicious'].value_counts().reindex([0,1], fill_value=0)\n",
        "\n",
        "# Plot with correct tick labels matching counts\n",
        "counts.plot(kind='bar', tick_label=['Normal', 'Suspicious'])\n",
        "\n",
        "plt.title('Message Classification')\n",
        "plt.xlabel('Type')\n",
        "plt.ylabel('Count')\n",
        "plt.show()\n"
      ],
      "metadata": {
        "id": "_vRyiUmt-83V",
        "outputId": "a7de02f1-565d-4099-d148-bd7647a20b15",
        "colab": {
          "base_uri": "https://localhost:8080/",
          "height": 467
        }
      },
      "execution_count": 95,
      "outputs": [
        {
          "output_type": "display_data",
          "data": {
            "text/plain": [
              "<Figure size 640x480 with 1 Axes>"
            ],
            "image/png": "[encoded data removed]"
          },
          "metadata": {}
        }
      ]
    },
    {
      "cell_type": "code",
      "source": [
        "df['sender_id'].value_counts().head()\n"
      ],
      "metadata": {
        "id": "Yu7qCvpr-861",
        "outputId": "b4892cba-b1a4-483e-d88e-e35f8374f5a0",
        "colab": {
          "base_uri": "https://localhost:8080/",
          "height": 147
        }
      },
      "execution_count": 96,
      "outputs": [
        {
          "output_type": "execute_result",
          "data": {
            "text/plain": [
              "sender_id\n",
              "8432945463    2\n",
              "Name: count, dtype: int64"
            ],
            "text/html": [
              "<div>\n",
              "<style scoped>\n",
              "    .dataframe tbody tr th:only-of-type {\n",
              "        vertical-align: middle;\n",
              "    }\n",
              "\n",
              "    .dataframe tbody tr th {\n",
              "        vertical-align: top;\n",
              "    }\n",
              "\n",
              "    .dataframe thead th {\n",
              "        text-align: right;\n",
              "    }\n",
              "</style>\n",
              "<table border=\"1\" class=\"dataframe\">\n",
              "  <thead>\n",
              "    <tr style=\"text-align: right;\">\n",
              "      <th></th>\n",
              "      <th>count</th>\n",
              "    </tr>\n",
              "    <tr>\n",
              "      <th>sender_id</th>\n",
              "      <th></th>\n",
              "    </tr>\n",
              "  </thead>\n",
              "  <tbody>\n",
              "    <tr>\n",
              "      <th>8432945463</th>\n",
              "      <td>2</td>\n",
              "    </tr>\n",
              "  </tbody>\n",
              "</table>\n",
              "</div><br><label><b>dtype:</b> int64</label>"
            ]
          },
          "metadata": {},
          "execution_count": 96
        }
      ]
    },
    {
      "cell_type": "code",
      "source": [
        "print(df.columns)"
      ],
      "metadata": {
        "id": "qgl3SjEvAUHh",
        "outputId": "33ae3e97-2ed3-4c8a-91bb-a010b1b6d13f",
        "colab": {
          "base_uri": "https://localhost:8080/"
        }
      },
      "execution_count": 97,
      "outputs": [
        {
          "output_type": "stream",
          "name": "stdout",
          "text": [
            "Index(['timestamp', 'sender_id', 'message', 'clean_message', 'suspicious'], dtype='object')\n"
          ]
        }
      ]
    },
    {
      "cell_type": "code",
      "source": [
        "df.to_csv('cleaned_messages.csv', index=False)\n"
      ],
      "metadata": {
        "id": "10xNSP9hAULA"
      },
      "execution_count": 99,
      "outputs": []
    },
    {
      "cell_type": "code",
      "source": [
        "import pandas as pd\n",
        "\n",
        "df = pd.read_csv('cleaned_messages.csv')  # Use your actual filename\n",
        "print(df.columns)\n"
      ],
      "metadata": {
        "id": "tc8oZuk-CeH9",
        "outputId": "5fa50fa8-d429-4687-fca7-00f168e03b30",
        "colab": {
          "base_uri": "https://localhost:8080/"
        }
      },
      "execution_count": 100,
      "outputs": [
        {
          "output_type": "stream",
          "name": "stdout",
          "text": [
            "Index(['timestamp', 'sender_id', 'message', 'clean_message', 'suspicious'], dtype='object')\n"
          ]
        }
      ]
    },
    {
      "cell_type": "code",
      "source": [
        "print(df[['message','suspicious']].head())\n",
        "df['suspicious']  # All suspicious messages\n"
      ],
      "metadata": {
        "id": "nifscYpmCgPB",
        "outputId": "b71cafe6-9c92-4b08-df24-52576926dec9",
        "colab": {
          "base_uri": "https://localhost:8080/",
          "height": 199
        }
      },
      "execution_count": 101,
      "outputs": [
        {
          "output_type": "stream",
          "name": "stdout",
          "text": [
            "                                          message  suspicious\n",
            "0  weed is on the way ?? do you want cocaine too.           1\n",
            "1  weed is on the way ?? do you want cocaine too.           1\n"
          ]
        },
        {
          "output_type": "execute_result",
          "data": {
            "text/plain": [
              "0    1\n",
              "1    1\n",
              "Name: suspicious, dtype: int64"
            ],
            "text/html": [
              "<div>\n",
              "<style scoped>\n",
              "    .dataframe tbody tr th:only-of-type {\n",
              "        vertical-align: middle;\n",
              "    }\n",
              "\n",
              "    .dataframe tbody tr th {\n",
              "        vertical-align: top;\n",
              "    }\n",
              "\n",
              "    .dataframe thead th {\n",
              "        text-align: right;\n",
              "    }\n",
              "</style>\n",
              "<table border=\"1\" class=\"dataframe\">\n",
              "  <thead>\n",
              "    <tr style=\"text-align: right;\">\n",
              "      <th></th>\n",
              "      <th>suspicious</th>\n",
              "    </tr>\n",
              "  </thead>\n",
              "  <tbody>\n",
              "    <tr>\n",
              "      <th>0</th>\n",
              "      <td>1</td>\n",
              "    </tr>\n",
              "    <tr>\n",
              "      <th>1</th>\n",
              "      <td>1</td>\n",
              "    </tr>\n",
              "  </tbody>\n",
              "</table>\n",
              "</div><br><label><b>dtype:</b> int64</label>"
            ]
          },
          "metadata": {},
          "execution_count": 101
        }
      ]
    },
    {
      "cell_type": "code",
      "source": [
        "df['suspicious'] = df['suspicious'].astype(int)\n"
      ],
      "metadata": {
        "id": "AxMvCbg3CgZJ"
      },
      "execution_count": 102,
      "outputs": []
    },
    {
      "cell_type": "code",
      "source": [
        "df = pd.read_csv('cleaned_messages.csv')\n",
        "X = df['clean_message']\n",
        "y = df['suspicious']\n",
        "print (X)\n",
        "print(\"----------------------------\")\n",
        "print(y)\n"
      ],
      "metadata": {
        "id": "XW4ZOLoiA2Y4",
        "outputId": "f232405f-b388-4155-c34c-e718af350a93",
        "colab": {
          "base_uri": "https://localhost:8080/"
        }
      },
      "execution_count": 103,
      "outputs": [
        {
          "output_type": "stream",
          "name": "stdout",
          "text": [
            "0    weed is on the way  do you want cocaine too\n",
            "1    weed is on the way  do you want cocaine too\n",
            "Name: clean_message, dtype: object\n",
            "----------------------------\n",
            "0    1\n",
            "1    1\n",
            "Name: suspicious, dtype: int64\n"
          ]
        }
      ]
    },
    {
      "cell_type": "code",
      "source": [
        "print(f\"Train size: {len(y_train)} samples\")\n",
        "print(f\"Test size: {len(y_test)} samples\")\n",
        "print(y_test.value_counts())\n",
        "X_train, X_test, y_train, y_test = train_test_split(X_vec, y, test_size=0.2, random_state=42, stratify=y)\n",
        "from sklearn.model_selection import cross_val_score\n",
        "scores = cross_val_score(clf, X_vec, y, cv=2, scoring='f1')\n",
        "print(\"Cross-validation F1 scores:\", scores)\n",
        "print(\"Mean F1 score:\", scores.mean())\n"
      ],
      "metadata": {
        "id": "iB1HbD0xFN6v",
        "outputId": "35d37d8d-9c14-4669-cc3c-2a56ccb73b62",
        "colab": {
          "base_uri": "https://localhost:8080/"
        }
      },
      "execution_count": 104,
      "outputs": [
        {
          "output_type": "stream",
          "name": "stdout",
          "text": [
            "Train size: 1 samples\n",
            "Test size: 1 samples\n",
            "suspicious\n",
            "1    1\n",
            "Name: count, dtype: int64\n",
            "Cross-validation F1 scores: [1. 1.]\n",
            "Mean F1 score: 1.0\n"
          ]
        }
      ]
    },
    {
      "cell_type": "code",
      "source": [
        "import pandas as pd\n",
        "from sklearn.model_selection import train_test_split\n",
        "from sklearn.feature_extraction.text import CountVectorizer\n",
        "from sklearn.naive_bayes import MultinomialNB\n",
        "from sklearn.metrics import classification_report\n",
        "\n",
        "# Load and prepare data\n",
        "df = pd.read_csv('cleaned_messages.csv')\n",
        "# Assume 'suspicious' column exists (1=suspicious, 0=normal)\n",
        "X = df['clean_message']\n",
        "y = df['suspicious']\n",
        "\n",
        "# Vectorize text\n",
        "vectorizer = CountVectorizer()\n",
        "X_vec = vectorizer.fit_transform(X)\n",
        "\n",
        "# Split data\n",
        "X_train, X_test, y_train, y_test = train_test_split(X_vec, y, test_size=0.2, random_state=42)\n",
        "\n",
        "# Train basic model\n",
        "clf = MultinomialNB()\n",
        "clf.fit(X_train, y_train)\n",
        "\n",
        "# Evaluate\n",
        "y_pred = clf.predict(X_test)\n",
        "print(classification_report(y_test, y_pred))\n"
      ],
      "metadata": {
        "id": "Pl__-UfnFOHR",
        "outputId": "4dfb95c1-ebf7-44f8-f709-f8989030d846",
        "colab": {
          "base_uri": "https://localhost:8080/"
        }
      },
      "execution_count": 105,
      "outputs": [
        {
          "output_type": "stream",
          "name": "stdout",
          "text": [
            "              precision    recall  f1-score   support\n",
            "\n",
            "           1       1.00      1.00      1.00         1\n",
            "\n",
            "    accuracy                           1.00         1\n",
            "   macro avg       1.00      1.00      1.00         1\n",
            "weighted avg       1.00      1.00      1.00         1\n",
            "\n"
          ]
        }
      ]
    },
    {
      "cell_type": "code",
      "source": [
        "import hashlib\n",
        "\n",
        "# For each suspicious message, compute hash and (optionally) store/send it\n",
        "df = df[df['suspicious'] == 1]\n",
        "df['message_hash'] = df['message'].apply(lambda x: hashlib.sha256(str(x).encode('utf-8')).hexdigest())\n",
        "df.to_csv('suspicious_messages_with_hash.csv', index=False)\n",
        "\n",
        "# Display hashes for evidence\n",
        "print(df[['message', 'message_hash']].head())\n",
        "print(df.columns)"
      ],
      "metadata": {
        "id": "XIELJ14MHBVo",
        "outputId": "88521d5f-3f18-4d7c-aa9e-8ba9028878cb",
        "colab": {
          "base_uri": "https://localhost:8080/"
        }
      },
      "execution_count": 106,
      "outputs": [
        {
          "output_type": "stream",
          "name": "stdout",
          "text": [
            "                                          message  \\\n",
            "0  weed is on the way ?? do you want cocaine too.   \n",
            "1  weed is on the way ?? do you want cocaine too.   \n",
            "\n",
            "                                        message_hash  \n",
            "0  d125fcee3d21ba36e7833fa2d55eaf636b3141a1bec9ec...  \n",
            "1  d125fcee3d21ba36e7833fa2d55eaf636b3141a1bec9ec...  \n",
            "Index(['timestamp', 'sender_id', 'message', 'clean_message', 'suspicious',\n",
            "       'message_hash'],\n",
            "      dtype='object')\n"
          ]
        }
      ]
    },
    {
      "cell_type": "code",
      "source": [
        "from google.colab import files\n",
        "files.download('suspicious_messages_with_hash.csv')\n"
      ],
      "metadata": {
        "id": "0WLKiFeXHLSz",
        "outputId": "57940ac5-866f-45d6-a587-a05a6736921c",
        "colab": {
          "base_uri": "https://localhost:8080/",
          "height": 17
        }
      },
      "execution_count": 107,
      "outputs": [
        {
          "output_type": "display_data",
          "data": {
            "text/plain": [
              "<IPython.core.display.Javascript object>"
            ],
            "application/javascript": [
              "\n",
              "    async function download(id, filename, size) {\n",
              "      if (!google.colab.kernel.accessAllowed) {\n",
              "        return;\n",
              "      }\n",
              "      const div = document.createElement('div');\n",
              "      const label = document.createElement('label');\n",
              "      label.textContent = `Downloading \"${filename}\": `;\n",
              "      div.appendChild(label);\n",
              "      const progress = document.createElement('progress');\n",
              "      progress.max = size;\n",
              "      div.appendChild(progress);\n",
              "      document.body.appendChild(div);\n",
              "\n",
              "      const buffers = [];\n",
              "      let downloaded = 0;\n",
              "\n",
              "      const channel = await google.colab.kernel.comms.open(id);\n",
              "      // Send a message to notify the kernel that we're ready.\n",
              "      channel.send({})\n",
              "\n",
              "      for await (const message of channel.messages) {\n",
              "        // Send a message to notify the kernel that we're ready.\n",
              "        channel.send({})\n",
              "        if (message.buffers) {\n",
              "          for (const buffer of message.buffers) {\n",
              "            buffers.push(buffer);\n",
              "            downloaded += buffer.byteLength;\n",
              "            progress.value = downloaded;\n",
              "          }\n",
              "        }\n",
              "      }\n",
              "      const blob = new Blob(buffers, {type: 'application/binary'});\n",
              "      const a = document.createElement('a');\n",
              "      a.href = window.URL.createObjectURL(blob);\n",
              "      a.download = filename;\n",
              "      div.appendChild(a);\n",
              "      a.click();\n",
              "      div.remove();\n",
              "    }\n",
              "  "
            ]
          },
          "metadata": {}
        },
        {
          "output_type": "display_data",
          "data": {
            "text/plain": [
              "<IPython.core.display.Javascript object>"
            ],
            "application/javascript": [
              "download(\"download_0dbc8517-d800-4509-8c8f-378559eacb8c\", \"suspicious_messages_with_hash.csv\", 444)"
            ]
          },
          "metadata": {}
        }
      ]
    },
    {
      "cell_type": "code",
      "source": [
        "import hashlib\n",
        "\n",
        "# Add a tamper-proof hash column for each suspicious message\n",
        "df['message_hash'] = df['message'].apply(lambda x: hashlib.sha256(str(x).encode('utf-8')).hexdigest())\n",
        "df[['message','message_hash']].head()"
      ],
      "metadata": {
        "id": "ZH9gnpjnJA1_",
        "outputId": "6ee57aad-2f11-48c2-9216-e9b485220f37",
        "colab": {
          "base_uri": "https://localhost:8080/",
          "height": 112
        }
      },
      "execution_count": 108,
      "outputs": [
        {
          "output_type": "execute_result",
          "data": {
            "text/plain": [
              "                                          message  \\\n",
              "0  weed is on the way ?? do you want cocaine too.   \n",
              "1  weed is on the way ?? do you want cocaine too.   \n",
              "\n",
              "                                        message_hash  \n",
              "0  d125fcee3d21ba36e7833fa2d55eaf636b3141a1bec9ec...  \n",
              "1  d125fcee3d21ba36e7833fa2d55eaf636b3141a1bec9ec...  "
            ],
            "text/html": [
              "\n",
              "  <div id=\"df-2fcd34ba-46ad-4d64-82cc-f5f87aea0786\" class=\"colab-df-container\">\n",
              "    <div>\n",
              "<style scoped>\n",
              "    .dataframe tbody tr th:only-of-type {\n",
              "        vertical-align: middle;\n",
              "    }\n",
              "\n",
              "    .dataframe tbody tr th {\n",
              "        vertical-align: top;\n",
              "    }\n",
              "\n",
              "    .dataframe thead th {\n",
              "        text-align: right;\n",
              "    }\n",
              "</style>\n",
              "<table border=\"1\" class=\"dataframe\">\n",
              "  <thead>\n",
              "    <tr style=\"text-align: right;\">\n",
              "      <th></th>\n",
              "      <th>message</th>\n",
              "      <th>message_hash</th>\n",
              "    </tr>\n",
              "  </thead>\n",
              "  <tbody>\n",
              "    <tr>\n",
              "      <th>0</th>\n",
              "      <td>weed is on the way ?? do you want cocaine too.</td>\n",
              "      <td>d125fcee3d21ba36e7833fa2d55eaf636b3141a1bec9ec...</td>\n",
              "    </tr>\n",
              "    <tr>\n",
              "      <th>1</th>\n",
              "      <td>weed is on the way ?? do you want cocaine too.</td>\n",
              "      <td>d125fcee3d21ba36e7833fa2d55eaf636b3141a1bec9ec...</td>\n",
              "    </tr>\n",
              "  </tbody>\n",
              "</table>\n",
              "</div>\n",
              "    <div class=\"colab-df-buttons\">\n",
              "      \n",
              "  <div class=\"colab-df-container\">\n",
              "    <button class=\"colab-df-convert\" onclick=\"convertToInteractive('df-2fcd34ba-46ad-4d64-82cc-f5f87aea0786')\"\n",
              "            title=\"Convert this dataframe to an interactive table.\"\n",
              "            style=\"display:none;\">\n",
              "      \n",
              "  <svg xmlns=\"http://www.w3.org/2000/svg\" height=\"24px\" viewBox=\"0 -960 960 960\">\n",
              "    <path d=\"M120-120v-720h720v720H120Zm60-500h600v-160H180v160Zm220 220h160v-160H400v160Zm0 220h160v-160H400v160ZM180-400h160v-160H180v160Zm440 0h160v-160H620v160ZM180-180h160v-160H180v160Zm440 0h160v-160H620v160Z\"/>\n",
              "  </svg>\n",
              "    </button>\n",
              "    \n",
              "  <style>\n",
              "    .colab-df-container {\n",
              "      display:flex;\n",
              "      gap: 12px;\n",
              "    }\n",
              "\n",
              "    .colab-df-convert {\n",
              "      background-color: #E8F0FE;\n",
              "      border: none;\n",
              "      border-radius: 50%;\n",
              "      cursor: pointer;\n",
              "      display: none;\n",
              "      fill: #1967D2;\n",
              "      height: 32px;\n",
              "      padding: 0 0 0 0;\n",
              "      width: 32px;\n",
              "    }\n",
              "\n",
              "    .colab-df-convert:hover {\n",
              "      background-color: #E2EBFA;\n",
              "      box-shadow: 0px 1px 2px rgba(60, 64, 67, 0.3), 0px 1px 3px 1px rgba(60, 64, 67, 0.15);\n",
              "      fill: #174EA6;\n",
              "    }\n",
              "\n",
              "    .colab-df-buttons div {\n",
              "      margin-bottom: 4px;\n",
              "    }\n",
              "\n",
              "    [theme=dark] .colab-df-convert {\n",
              "      background-color: #3B4455;\n",
              "      fill: #D2E3FC;\n",
              "    }\n",
              "\n",
              "    [theme=dark] .colab-df-convert:hover {\n",
              "      background-color: #434B5C;\n",
              "      box-shadow: 0px 1px 3px 1px rgba(0, 0, 0, 0.15);\n",
              "      filter: drop-shadow(0px 1px 2px rgba(0, 0, 0, 0.3));\n",
              "      fill: #FFFFFF;\n",
              "    }\n",
              "  </style>\n",
              "\n",
              "    <script>\n",
              "      const buttonEl =\n",
              "        document.querySelector('#df-2fcd34ba-46ad-4d64-82cc-f5f87aea0786 button.colab-df-convert');\n",
              "      buttonEl.style.display =\n",
              "        google.colab.kernel.accessAllowed ? 'block' : 'none';\n",
              "\n",
              "      async function convertToInteractive(key) {\n",
              "        const element = document.querySelector('#df-2fcd34ba-46ad-4d64-82cc-f5f87aea0786');\n",
              "        const dataTable =\n",
              "          await google.colab.kernel.invokeFunction('convertToInteractive',\n",
              "                                                    [key], {});\n",
              "        if (!dataTable) return;\n",
              "\n",
              "        const docLinkHtml = 'Like what you see? Visit the ' +\n",
              "          '<a target=\"_blank\" href=https://colab.research.google.com/notebooks/data_table.ipynb>data table notebook</a>'\n",
              "          + ' to learn more about interactive tables.';\n",
              "        element.innerHTML = '';\n",
              "        dataTable['output_type'] = 'display_data';\n",
              "        await google.colab.output.renderOutput(dataTable, element);\n",
              "        const docLink = document.createElement('div');\n",
              "        docLink.innerHTML = docLinkHtml;\n",
              "        element.appendChild(docLink);\n",
              "      }\n",
              "    </script>\n",
              "  </div>\n",
              "  \n",
              "    </div>\n",
              "  </div>\n",
              "  "
            ]
          },
          "metadata": {},
          "execution_count": 108
        }
      ]
    },
    {
      "cell_type": "code",
      "source": [
        "# Messages over time\n",
        "df['timestamp'] = pd.to_datetime(df['timestamp'])\n",
        "df.set_index('timestamp', inplace=True)\n",
        "df.resample('D')['suspicious'].sum().plot(kind='line', title='Suspicious Messages Per Day')\n",
        "plt.xlabel('Date')\n",
        "plt.ylabel('Count')\n",
        "plt.show()\n"
      ],
      "metadata": {
        "id": "F5VJJvJLHUpI",
        "outputId": "20eec9c9-b9e0-439f-de35-71fcdd88bd74",
        "colab": {
          "base_uri": "https://localhost:8080/",
          "height": 527
        }
      },
      "execution_count": 109,
      "outputs": [
        {
          "output_type": "stream",
          "name": "stderr",
          "text": [
            "/usr/local/lib/python3.11/dist-packages/pandas/plotting/_matplotlib/core.py:1561: UserWarning: Attempting to set identical low and high xlims makes transformation singular; automatically expanding.\n",
            "  ax.set_xlim(left, right)\n"
          ]
        },
        {
          "output_type": "display_data",
          "data": {
            "text/plain": [
              "<Figure size 640x480 with 1 Axes>"
            ],
            "image/png": "[encoded data removed]"
          },
          "metadata": {}
        }
      ]
    },
    {
      "cell_type": "code",
      "source": [
        "import pandas as pd\n",
        "import matplotlib.pyplot as plt\n",
        "\n",
        "# Load your data (make sure you have 'timestamp' and 'suspicious' columns)\n",
        "df = pd.read_csv('cleaned_messages.csv')  # or your relevant CSV\n",
        "df['timestamp'] = pd.to_datetime(df['timestamp'])\n",
        "df['suspicious'] = df['suspicious'].astype(int)\n",
        "df.set_index('timestamp', inplace=True)\n",
        "# Group and sum flagged messages per day\n",
        "daily = df.resample('D')['suspicious'].sum()\n",
        "\n",
        "plt.figure(figsize=(10,4))\n",
        "daily.plot(kind='line', marker='o')\n",
        "plt.title('Suspicious')\n"
      ],
      "metadata": {
        "id": "4nrxxHyTHUyB",
        "outputId": "03232d7e-b090-4755-a8fc-e924ebe9d55e",
        "colab": {
          "base_uri": "https://localhost:8080/",
          "height": 482
        }
      },
      "execution_count": 110,
      "outputs": [
        {
          "output_type": "stream",
          "name": "stderr",
          "text": [
            "/usr/local/lib/python3.11/dist-packages/pandas/plotting/_matplotlib/core.py:1561: UserWarning: Attempting to set identical low and high xlims makes transformation singular; automatically expanding.\n",
            "  ax.set_xlim(left, right)\n"
          ]
        },
        {
          "output_type": "execute_result",
          "data": {
            "text/plain": [
              "Text(0.5, 1.0, 'Suspicious')"
            ]
          },
          "metadata": {},
          "execution_count": 110
        },
        {
          "output_type": "display_data",
          "data": {
            "text/plain": [
              "<Figure size 1000x400 with 1 Axes>"
            ],
            "image/png": "[encoded data removed]"
          },
          "metadata": {}
        }
      ]
    },
    {
      "cell_type": "code",
      "source": [
        "\n"
      ],
      "metadata": {
        "id": "1hW4LlXkHwLG"
      },
      "execution_count": null,
      "outputs": []
    },
    {
      "cell_type": "code",
      "source": [],
      "metadata": {
        "id": "tXMf2HR3HwOm"
      },
      "execution_count": null,
      "outputs": []
    }
  ]
}